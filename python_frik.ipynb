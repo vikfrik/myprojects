{
 "cells": [
  {
   "cell_type": "code",
   "execution_count": 2,
   "id": "07d30d82",
   "metadata": {},
   "outputs": [
    {
     "name": "stdout",
     "output_type": "stream",
     "text": [
      "2\n"
     ]
    }
   ],
   "source": [
    "a = 2\n",
    "print(a)"
   ]
  },
  {
   "cell_type": "code",
   "execution_count": null,
   "id": "02899656",
   "metadata": {},
   "outputs": [],
   "source": [
    "def distance (x,y):\n",
    "    k = 7 \n",
    "    for j in range (7):\n",
    "        if x % 10 == y % 10:\n",
    "            k = k - 1\n",
    "            x = x // 10\n",
    "            y = y // 10\n",
    "    distance = k\n",
    "cod = input ('код ')\n",
    "min = distance(cod, )"
   ]
  }
 ],
 "metadata": {
  "kernelspec": {
   "display_name": "Python 3 (ipykernel)",
   "language": "python",
   "name": "python3"
  },
  "language_info": {
   "codemirror_mode": {
    "name": "ipython",
    "version": 3
   },
   "file_extension": ".py",
   "mimetype": "text/x-python",
   "name": "python",
   "nbconvert_exporter": "python",
   "pygments_lexer": "ipython3",
   "version": "3.9.13"
  }
 },
 "nbformat": 4,
 "nbformat_minor": 5
}
