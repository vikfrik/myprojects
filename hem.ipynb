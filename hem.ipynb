{
 "cells": [
  {
   "cell_type": "markdown",
   "id": "22d8df56",
   "metadata": {},
   "source": [
    "Программа кода Хемминга"
   ]
  },
  {
   "cell_type": "code",
   "execution_count": null,
   "id": "98cd3d2d",
   "metadata": {},
   "outputs": [],
   "source": [
    "a = '0123456789'\n",
    "nums = list(a)\n",
    "print(nums)"
   ]
  },
  {
   "cell_type": "code",
   "execution_count": null,
   "id": "3fc8a9cc",
   "metadata": {},
   "outputs": [],
   "source": [
    "b = '0000000 000111 0010110 0011001 0100101 0101010 0110011 0111100 1000011 1001100'\n",
    "hem = b.split()\n",
    "print(hem)\n",
    "for i in range(len(hem)):\n",
    "    hem[i] = int(hem[i])\n",
    "print(hem)"
   ]
  },
  {
   "cell_type": "code",
   "execution_count": null,
   "id": "88d85472",
   "metadata": {},
   "outputs": [],
   "source": [
    "def distance (x,y):\n",
    "    k = 7\n",
    "    for i in range(7):\n",
    "        if x % 10 == y % 10:\n",
    "            k = k-1\n",
    "        x = x // 10\n",
    "        y = y // 10\n",
    "    return k"
   ]
  },
  {
   "cell_type": "code",
   "execution_count": null,
   "id": "fe6e911b",
   "metadata": {},
   "outputs": [],
   "source": [
    "cod = int(input('код = '))"
   ]
  },
  {
   "cell_type": "code",
   "execution_count": null,
   "id": "1e40f254",
   "metadata": {},
   "outputs": [],
   "source": [
    "min = distance(cod, hem[0])\n",
    "imin = 0\n",
    "for i in range (10):\n",
    "    D = distance (cod, hem[i])\n",
    "    if D < min:\n",
    "        min = D\n",
    "        imin = i"
   ]
  },
  {
   "cell_type": "code",
   "execution_count": null,
   "id": "c3de1f31",
   "metadata": {},
   "outputs": [],
   "source": [
    "if min==0:\n",
    "  print(f\"код верный: символ {nums[imin]}\")\n",
    "elif min==1:\n",
    "  print(f\"код исправлен: символ {nums[imin]}\")\n",
    "else:print(\"Код неверный\")"
   ]
  }
 ],
 "metadata": {
  "kernelspec": {
   "display_name": "Python 3 (ipykernel)",
   "language": "python",
   "name": "python3"
  },
  "language_info": {
   "codemirror_mode": {
    "name": "ipython",
    "version": 3
   },
   "file_extension": ".py",
   "mimetype": "text/x-python",
   "name": "python",
   "nbconvert_exporter": "python",
   "pygments_lexer": "ipython3",
   "version": "3.9.13"
  }
 },
 "nbformat": 4,
 "nbformat_minor": 5
}
